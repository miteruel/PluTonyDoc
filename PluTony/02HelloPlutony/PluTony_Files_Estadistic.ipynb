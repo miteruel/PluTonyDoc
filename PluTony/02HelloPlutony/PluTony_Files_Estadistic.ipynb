{
 "cells": [
  {
   "cell_type": "code",
   "execution_count": null,
   "metadata": {},
   "outputs": [],
   "source": []
  },
  {
   "cell_type": "markdown",
   "metadata": {},
   "source": [
    "Hola p4d.\n",
    "This is the very first doc to explain PluTony.\n",
    "Mix with Pandas\n",
    "\n",
    "\n",
    "\n"
   ]
  },
  {
   "cell_type": "markdown",
   "metadata": {},
   "source": [
    "The first steep is to import the PluTony and pandas libraries"
   ]
  },
  {
   "cell_type": "code",
   "execution_count": 2,
   "metadata": {},
   "outputs": [
    {
     "data": {
      "text/html": [
       "<div>\n",
       "<style scoped>\n",
       "    .dataframe tbody tr th:only-of-type {\n",
       "        vertical-align: middle;\n",
       "    }\n",
       "\n",
       "    .dataframe tbody tr th {\n",
       "        vertical-align: top;\n",
       "    }\n",
       "\n",
       "    .dataframe thead th {\n",
       "        text-align: right;\n",
       "    }\n",
       "</style>\n",
       "<table border=\"1\" class=\"dataframe\">\n",
       "  <thead>\n",
       "    <tr style=\"text-align: right;\">\n",
       "      <th></th>\n",
       "      <th>178</th>\n",
       "      <th>13</th>\n",
       "      <th>class_0</th>\n",
       "      <th>class_1</th>\n",
       "      <th>class_2</th>\n",
       "    </tr>\n",
       "  </thead>\n",
       "  <tbody>\n",
       "    <tr>\n",
       "      <th>count</th>\n",
       "      <td>178.000000</td>\n",
       "      <td>178.000000</td>\n",
       "      <td>178.000000</td>\n",
       "      <td>178.000000</td>\n",
       "      <td>178.000000</td>\n",
       "    </tr>\n",
       "    <tr>\n",
       "      <th>mean</th>\n",
       "      <td>5.058090</td>\n",
       "      <td>0.957449</td>\n",
       "      <td>2.611685</td>\n",
       "      <td>746.893258</td>\n",
       "      <td>0.938202</td>\n",
       "    </tr>\n",
       "    <tr>\n",
       "      <th>std</th>\n",
       "      <td>2.318286</td>\n",
       "      <td>0.228572</td>\n",
       "      <td>0.709990</td>\n",
       "      <td>314.907474</td>\n",
       "      <td>0.775035</td>\n",
       "    </tr>\n",
       "    <tr>\n",
       "      <th>min</th>\n",
       "      <td>1.280000</td>\n",
       "      <td>0.480000</td>\n",
       "      <td>1.270000</td>\n",
       "      <td>278.000000</td>\n",
       "      <td>0.000000</td>\n",
       "    </tr>\n",
       "    <tr>\n",
       "      <th>25%</th>\n",
       "      <td>3.220000</td>\n",
       "      <td>0.782500</td>\n",
       "      <td>1.937500</td>\n",
       "      <td>500.500000</td>\n",
       "      <td>0.000000</td>\n",
       "    </tr>\n",
       "    <tr>\n",
       "      <th>50%</th>\n",
       "      <td>4.690000</td>\n",
       "      <td>0.965000</td>\n",
       "      <td>2.780000</td>\n",
       "      <td>673.500000</td>\n",
       "      <td>1.000000</td>\n",
       "    </tr>\n",
       "    <tr>\n",
       "      <th>75%</th>\n",
       "      <td>6.200000</td>\n",
       "      <td>1.120000</td>\n",
       "      <td>3.170000</td>\n",
       "      <td>985.000000</td>\n",
       "      <td>2.000000</td>\n",
       "    </tr>\n",
       "    <tr>\n",
       "      <th>max</th>\n",
       "      <td>13.000000</td>\n",
       "      <td>1.710000</td>\n",
       "      <td>4.000000</td>\n",
       "      <td>1680.000000</td>\n",
       "      <td>2.000000</td>\n",
       "    </tr>\n",
       "  </tbody>\n",
       "</table>\n",
       "</div>"
      ],
      "text/plain": [
       "              178          13     class_0      class_1     class_2\n",
       "count  178.000000  178.000000  178.000000   178.000000  178.000000\n",
       "mean     5.058090    0.957449    2.611685   746.893258    0.938202\n",
       "std      2.318286    0.228572    0.709990   314.907474    0.775035\n",
       "min      1.280000    0.480000    1.270000   278.000000    0.000000\n",
       "25%      3.220000    0.782500    1.937500   500.500000    0.000000\n",
       "50%      4.690000    0.965000    2.780000   673.500000    1.000000\n",
       "75%      6.200000    1.120000    3.170000   985.000000    2.000000\n",
       "max     13.000000    1.710000    4.000000  1680.000000    2.000000"
      ]
     },
     "execution_count": 2,
     "metadata": {},
     "output_type": "execute_result"
    }
   ],
   "source": [
    "import PluTonyAdvent_dll\n",
    "import pandas as pd\n",
    "df=pd.read_csv('E:\\python\\Lib\\site-packages\\sklearn\\datasets\\data\\wine_data.csv');\n",
    "df\n",
    "df.head()\n",
    "df.describe()\n",
    "# df.tail()\n"
   ]
  },
  {
   "cell_type": "markdown",
   "metadata": {},
   "source": [
    "PluTony dll has several \"submodules\" wich may be imported too"
   ]
  },
  {
   "cell_type": "code",
   "execution_count": 3,
   "metadata": {},
   "outputs": [
    {
     "name": "stdout",
     "output_type": "stream",
     "text": [
      "hola\n"
     ]
    },
    {
     "data": {
      "text/plain": [
       "'hello from delphi'"
      ]
     },
     "execution_count": 3,
     "metadata": {},
     "output_type": "execute_result"
    }
   ],
   "source": [
    "\n",
    "import XML as Ply\n",
    "\n",
    "print (Ply.rtti_rec.ExecDWS('hola'))\n",
    "\n",
    "Ply.script.ExecDWS (\"print('hello from delphi')\")\n"
   ]
  },
  {
   "cell_type": "markdown",
   "metadata": {},
   "source": [
    "You can load a file"
   ]
  },
  {
   "cell_type": "code",
   "execution_count": 4,
   "metadata": {},
   "outputs": [
    {
     "name": "stdout",
     "output_type": "stream",
     "text": [
      "(e:\\d2009ss)\n",
      "e:\\d2009ss\\adler32.zobj\n",
      "e:\\d2009ss\\compress.zobj\n",
      "e:\\d2009ss\\crc32.zobj\n",
      "e:\\d2009ss\\deflate.zobj\n",
      "e:\\d2009ss\\DFS.INC\n",
      "e:\\d2009ss\\frx.inc\n",
      "e:\\d2009ss\\FR_Vers.inc\n",
      "e:\\d2009ss\\incelisa.pas\n",
      "e:\\d2009ss\\infback.zobj\n",
      "e:\\d2009ss\\inffast.zobj\n",
      "e:\\d2009ss\\inflate.zobj\n",
      "e:\\d2009ss\\inftrees.zobj\n",
      "e:\\d2009ss\\msWordConstants.inc\n",
      "e:\\d2009ss\\remoto.zip\n",
      "e:\\d2009ss\\Scripts.rc\n",
      "e:\\d2009ss\\scripts.RES\n",
      "e:\\d2009ss\\trees.zobj\n",
      "e:\\d2009ss\\Utiles.dcu\n",
      "e:\\d2009ss\\Utiles.pas\n",
      "(e:\\d2009ss\\elisa)\n",
      "e:\\d2009ss\\elisa\\DamaAutonoma.dcu\n",
      "e:\\d2009ss\\elisa\\DamaAutonoma.dfm\n",
      "e:\\d2009ss\\elisa\\DamaAutonoma.pas\n",
      "e:\\d2009ss\\elisa\\DamaElisaExten.dcu\n",
      "e:\\d2009ss\\elisa\\DamaElisaExten.dfm\n",
      "e:\\d2009ss\\elisa\\DamaElisaExten.pas\n",
      "e:\\d2009ss\\elisa\\DamaElisaWebservices.dcu\n",
      "e:\\d2009ss\\elisa\\DamaElisaWebservices.dfm\n",
      "e:\\d2009ss\\elisa\\DamaElisaWebservices.pas\n",
      "e:\\d2009ss\\elisa\\damaEnvios.dcu\n",
      "e:\\d2009ss\\elisa\\damaEnvios.dfm\n",
      "e:\\d2009ss\\elisa\\damaEnvios.pas\n",
      "e:\\d2009ss\\elisa\\DamoEnviosDamascoElisa.dcu\n",
      "e:\\d2009ss\\elisa\\DamoEnviosDamascoElisa.dfm\n",
      "e:\\d2009ss\\elisa\\DamoEnviosDamascoElisa.pas\n",
      "e:\\d2009ss\\elisa\\DataModuleX.dcu\n",
      "e:\\d2009ss\\elisa\\DataModuleX.dfm\n",
      "e:\\d2009ss\\elisa\\DataModuleX.pas\n",
      "e:\\d2009ss\\elisa\\ElisaDependencias.dcu\n",
      "e:\\d2009ss\\elisa\\ElisaDependencias.pas\n",
      "e:\\d2009ss\\elisa\\ElisaResultadoCache.dcu\n",
      "e:\\d2009ss\\elisa\\ElisaResultadoCache.pas\n",
      "e:\\d2009ss\\elisa\\Elisa_ActualizaClientes.dcu\n",
      "e:\\d2009ss\\elisa\\Elisa_ActualizaClientes.pas\n",
      "e:\\d2009ss\\elisa\\Elisa_Agroseguro_Correspondencias.dcu\n",
      "e:\\d2009ss\\elisa\\Elisa_Agroseguro_Correspondencias.pas\n",
      "e:\\d2009ss\\elisa\\Elisa_Comparativa.dcu\n",
      "e:\\d2009ss\\elisa\\Elisa_Comparativa.pas\n",
      "e:\\d2009ss\\elisa\\elisa_create.dcu\n",
      "e:\\d2009ss\\elisa\\Elisa_Create.pas\n",
      "e:\\d2009ss\\elisa\\Elisa_DamaAutonoma_Helper.dcu\n",
      "e:\\d2009ss\\elisa\\Elisa_DamaAutonoma_Helper.pas\n",
      "e:\\d2009ss\\elisa\\Elisa_DamaAutonoma_Procs.dcu\n",
      "e:\\d2009ss\\elisa\\Elisa_DamaAutonoma_Procs.pas\n",
      "e:\\d2009ss\\elisa\\Elisa_DamaElisa_Helper.dcu\n",
      "e:\\d2009ss\\elisa\\Elisa_DamaElisa_Helper.pas\n",
      "e:\\d2009ss\\elisa\\Elisa_Dama_Helper.dcu\n",
      "e:\\d2009ss\\elisa\\Elisa_Dama_Helper.pas\n",
      "e:\\d2009ss\\elisa\\Elisa_IniFiles.dcu\n",
      "e:\\d2009ss\\elisa\\Elisa_IniFiles.pas\n",
      "e:\\d2009ss\\elisa\\Elisa_LineasCompatibles.dcu\n",
      "e:\\d2009ss\\elisa\\Elisa_LineasCompatibles.pas\n",
      "e:\\d2009ss\\elisa\\elisa_menudips.dcu\n",
      "e:\\d2009ss\\elisa\\elisa_menudips.pas\n",
      "e:\\d2009ss\\elisa\\Elisa_PunteoTabla.dcu\n",
      "e:\\d2009ss\\elisa\\Elisa_PunteoTabla.pas\n",
      "e:\\d2009ss\\elisa\\Elisa_SeguridadSocial.dcu\n",
      "e:\\d2009ss\\elisa\\Elisa_SeguridadSocial.pas\n",
      "e:\\d2009ss\\elisa\\Elisa_SeleccionCampos.dcu\n",
      "e:\\d2009ss\\elisa\\Elisa_SeleccionCampos.pas\n",
      "e:\\d2009ss\\elisa\\Elisa_Totalizar.dcu\n",
      "e:\\d2009ss\\elisa\\Elisa_Totalizar.pas\n",
      "e:\\d2009ss\\elisa\\Elisa_Utiles.dcu\n",
      "e:\\d2009ss\\elisa\\Elisa_Utiles.pas\n",
      "e:\\d2009ss\\elisa\\menuElisaHelper.dcu\n",
      "e:\\d2009ss\\elisa\\menuElisaHelper.pas\n",
      "e:\\d2009ss\\elisa\\ObjetosElisaDamCalculo_Helper.dcu\n",
      "e:\\d2009ss\\elisa\\ObjetosElisaDamCalculo_Helper.pas\n",
      "e:\\d2009ss\\elisa\\ObjetosElisadamo.dcu\n",
      "e:\\d2009ss\\elisa\\ObjetosElisadamo.dfm\n",
      "e:\\d2009ss\\elisa\\ObjetosElisadamo.pas\n",
      "e:\\d2009ss\\elisa\\ObjetosElisadamocalculo.dcu\n",
      "e:\\d2009ss\\elisa\\ObjetosElisadamocalculo.dfm\n",
      "e:\\d2009ss\\elisa\\ObjetosElisadamocalculo.pas\n",
      "e:\\d2009ss\\elisa\\objetoselisaexternos.dcu\n",
      "e:\\d2009ss\\elisa\\objetoselisaexternos.pas\n",
      "e:\\d2009ss\\elisa\\Objetoselisapolizas.dcu\n",
      "e:\\d2009ss\\elisa\\Objetoselisapolizas.pas\n",
      "e:\\d2009ss\\elisa\\ProcesosDama.dcu\n",
      "e:\\d2009ss\\elisa\\ProcesosDama.pas\n"
     ]
    },
    {
     "ename": "NameError",
     "evalue": "name 'XML' is not defined",
     "output_type": "error",
     "traceback": [
      "\u001b[1;31m---------------------------------------------------------------------------\u001b[0m",
      "\u001b[1;31mNameError\u001b[0m                                 Traceback (most recent call last)",
      "\u001b[1;32m~\\AppData\\Local\\Temp/ipykernel_13792/4064928556.py\u001b[0m in \u001b[0;36m<module>\u001b[1;34m\u001b[0m\n\u001b[0;32m     11\u001b[0m \u001b[1;33m\u001b[0m\u001b[0m\n\u001b[0;32m     12\u001b[0m \u001b[1;31m# D=None\u001b[0m\u001b[1;33m\u001b[0m\u001b[1;33m\u001b[0m\u001b[1;33m\u001b[0m\u001b[0m\n\u001b[1;32m---> 13\u001b[1;33m \u001b[0mL\u001b[0m \u001b[1;33m=\u001b[0m \u001b[0mXML\u001b[0m\u001b[1;33m.\u001b[0m\u001b[0mPyXStringList\u001b[0m\u001b[1;33m(\u001b[0m\u001b[1;36m1\u001b[0m\u001b[1;33m,\u001b[0m \u001b[1;36m2\u001b[0m\u001b[1;33m,\u001b[0m\u001b[1;34m'hola'\u001b[0m\u001b[1;33m,\u001b[0m \u001b[1;36m3\u001b[0m\u001b[1;33m,\u001b[0m \u001b[1;36m4\u001b[0m\u001b[1;33m)\u001b[0m\u001b[1;33m\u001b[0m\u001b[1;33m\u001b[0m\u001b[0m\n\u001b[0m\u001b[0;32m     14\u001b[0m \u001b[0mprint\u001b[0m \u001b[1;33m(\u001b[0m\u001b[0mL\u001b[0m\u001b[1;33m)\u001b[0m\u001b[1;33m\u001b[0m\u001b[1;33m\u001b[0m\u001b[0m\n\u001b[0;32m     15\u001b[0m \u001b[1;32mfor\u001b[0m \u001b[0mi\u001b[0m \u001b[1;32min\u001b[0m \u001b[0mL\u001b[0m\u001b[1;33m:\u001b[0m\u001b[1;33m\u001b[0m\u001b[1;33m\u001b[0m\u001b[0m\n",
      "\u001b[1;31mNameError\u001b[0m: name 'XML' is not defined"
     ]
    }
   ],
   "source": [
    "\n",
    "\n",
    "\n",
    "D = Ply.Directory('e:\\d2009ss')\n",
    "print (D)\n",
    "# print (D. root)\n",
    "\n",
    "for j in D:\n",
    "        print (j)\n",
    "OD=D/'elisa'\n",
    "print (OD)\n",
    "for j in OD:\n",
    "        print (j)\n",
    "        \n",
    "# D=None\n",
    "L = XML.PyXStringList(1, 2,'hola', 3, 4)\n",
    "print (L)\n",
    "for i in L:\n",
    "  print (i, type(i))\n",
    "  \n",
    "print (L[2])\n",
    "L[2] = int(L[2]) * 2\n",
    "print (L[2], type(L[2]))\n",
    "print (L[ L.add(10) ])\n",
    "# L=None\n"
   ]
  },
  {
   "cell_type": "code",
   "execution_count": null,
   "metadata": {},
   "outputs": [],
   "source": []
  },
  {
   "cell_type": "code",
   "execution_count": 5,
   "metadata": {},
   "outputs": [
    {
     "ename": "NameError",
     "evalue": "name 'XML' is not defined",
     "output_type": "error",
     "traceback": [
      "\u001b[1;31m---------------------------------------------------------------------------\u001b[0m",
      "\u001b[1;31mNameError\u001b[0m                                 Traceback (most recent call last)",
      "\u001b[1;32m~\\AppData\\Local\\Temp/ipykernel_13792/1458205903.py\u001b[0m in \u001b[0;36m<module>\u001b[1;34m\u001b[0m\n\u001b[0;32m      2\u001b[0m  \u001b[0mvar\u001b[0m \u001b[0ms\u001b[0m \u001b[1;33m:\u001b[0m \u001b[0mString\u001b[0m \u001b[1;33m=\u001b[0m \u001b[1;34m'Hello from delphi script!'\u001b[0m\u001b[1;33m;\u001b[0m\u001b[1;33m\u001b[0m\u001b[1;33m\u001b[0m\u001b[0m\n\u001b[0;32m      3\u001b[0m  Print(s); \"\"\"\n\u001b[1;32m----> 4\u001b[1;33m \u001b[0mresult\u001b[0m\u001b[1;33m=\u001b[0m\u001b[0mXML\u001b[0m\u001b[1;33m.\u001b[0m\u001b[0mExecDWS\u001b[0m\u001b[1;33m(\u001b[0m\u001b[0mprog\u001b[0m\u001b[1;33m)\u001b[0m\u001b[1;33m\u001b[0m\u001b[1;33m\u001b[0m\u001b[0m\n\u001b[0m\u001b[0;32m      5\u001b[0m \u001b[1;33m\u001b[0m\u001b[0m\n\u001b[0;32m      6\u001b[0m \u001b[0mprint\u001b[0m\u001b[1;33m(\u001b[0m\u001b[0mprog\u001b[0m\u001b[1;33m)\u001b[0m\u001b[1;33m\u001b[0m\u001b[1;33m\u001b[0m\u001b[0m\n",
      "\u001b[1;31mNameError\u001b[0m: name 'XML' is not defined"
     ]
    }
   ],
   "source": [
    "prog=\"\"\" \n",
    " var s : String = 'Hello from delphi script!'; \n",
    " Print(s); \"\"\"\n",
    "result=XML.ExecDWS(prog)\n",
    "\n",
    "print(prog)\n",
    "print(result)\n"
   ]
  },
  {
   "cell_type": "code",
   "execution_count": null,
   "metadata": {},
   "outputs": [],
   "source": []
  }
 ],
 "metadata": {
  "kernelspec": {
   "display_name": "Python 3 (ipykernel)",
   "language": "python",
   "name": "python3"
  },
  "language_info": {
   "codemirror_mode": {
    "name": "ipython",
    "version": 3
   },
   "file_extension": ".py",
   "mimetype": "text/x-python",
   "name": "python",
   "nbconvert_exporter": "python",
   "pygments_lexer": "ipython3",
   "version": "3.8.8"
  }
 },
 "nbformat": 4,
 "nbformat_minor": 4
}
