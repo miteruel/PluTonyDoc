{
 "cells": [
  {
   "cell_type": "code",
   "execution_count": 1,
   "id": "aggressive-intellectual",
   "metadata": {},
   "outputs": [
    {
     "name": "stdout",
     "output_type": "stream",
     "text": [
      "hello word"
     ]
    }
   ],
   "source": [
    "begin\n",
    "  print ('hello word')\n",
    "end."
   ]
  },
  {
   "cell_type": "code",
   "execution_count": null,
   "id": "designed-balance",
   "metadata": {},
   "outputs": [],
   "source": []
  }
 ],
 "metadata": {
  "kernelspec": {
   "display_name": "mypascalkernel",
   "language": "",
   "name": "mypascalkernel"
  },
  "language_info": {
   "file_extension": ".pas",
   "mimetype": "text/x-pascal",
   "name": "pascal"
  }
 },
 "nbformat": 4,
 "nbformat_minor": 5
}
