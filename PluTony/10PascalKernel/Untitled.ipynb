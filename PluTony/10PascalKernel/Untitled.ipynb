{
 "cells": [
  {
   "cell_type": "code",
   "execution_count": null,
   "id": "raised-requirement",
   "metadata": {},
   "outputs": [],
   "source": []
  }
 ],
 "metadata": {
  "kernelspec": {
   "display_name": "pascalkernel",
   "language": "",
   "name": "pascalkernel"
  },
  "language_info": {
   "file_extension": ".pas",
   "mimetype": "text/x-pascal",
   "name": "pascal"
  }
 },
 "nbformat": 4,
 "nbformat_minor": 5
}
