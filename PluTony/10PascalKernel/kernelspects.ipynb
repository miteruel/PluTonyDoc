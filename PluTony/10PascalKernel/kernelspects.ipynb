{
 "cells": [
  {
   "cell_type": "markdown",
   "metadata": {},
   "source": [
    "In Jupyter, you can check system paths."
   ]
  },
  {
   "cell_type": "code",
   "execution_count": 29,
   "metadata": {
    "scrolled": true
   },
   "outputs": [],
   "source": [
    "from ipykernel.kernelbase import Kernel\n",
    "import sys\n",
    "# sys.path\n",
    " "
   ]
  },
  {
   "cell_type": "code",
   "execution_count": null,
   "metadata": {
    "scrolled": true
   },
   "outputs": [],
   "source": [
    "!dir *.*"
   ]
  },
  {
   "cell_type": "markdown",
   "metadata": {},
   "source": [
    "In same way you can call command line programs. To obtain  tool versions or kernel list"
   ]
  },
  {
   "cell_type": "code",
   "execution_count": 30,
   "metadata": {
    "scrolled": false
   },
   "outputs": [
    {
     "name": "stdout",
     "output_type": "stream",
     "text": [
      "Python 3.8.8\n",
      "pip 21.3.1 from C:\\Users\\toni\\AppData\\Roaming\\Python\\Python38\\site-packages\\pip (python 3.8)\n",
      "\n",
      "Available kernels:\n",
      "  bash              C:\\Users\\toni\\AppData\\Roaming\\jupyter\\kernels\\bash\n",
      "  dws_kernel        C:\\Users\\toni\\AppData\\Roaming\\jupyter\\kernels\\dws_kernel\n",
      "  echo              C:\\Users\\toni\\AppData\\Roaming\\jupyter\\kernels\\echo\n",
      "  mypascalkernel    C:\\Users\\toni\\AppData\\Roaming\\jupyter\\kernels\\mypascalkernel\n",
      "  pascalkernel      C:\\Users\\toni\\AppData\\Roaming\\jupyter\\kernels\\pascalkernel\n",
      "  python3           C:\\Users\\toni\\AppData\\Roaming\\jupyter\\kernels\\python3\n"
     ]
    },
    {
     "name": "stderr",
     "output_type": "stream",
     "text": [
      "[TerminalIPythonApp] WARNING | Subcommand `ipython kernelspec` is deprecated and will be removed in future versions.\n",
      "[TerminalIPythonApp] WARNING | You likely want to use `jupyter kernelspec` in the future\n"
     ]
    }
   ],
   "source": [
    "!python --version\n",
    "!python -m pip --version\n",
    "!ipython kernelspec list\n",
    "# list kernels"
   ]
  },
  {
   "cell_type": "markdown",
   "metadata": {},
   "source": [
    "you can uninstall kernels, change de following ecoeco_kernel for the name of the kernel to remove."
   ]
  },
  {
   "cell_type": "code",
   "execution_count": 31,
   "metadata": {},
   "outputs": [
    {
     "name": "stdout",
     "output_type": "stream",
     "text": [
      "Kernel specs to remove:\n",
      "  pascalkernel        \tC:\\Users\\toni\\AppData\\Roaming\\jupyter\\kernels\\pascalkernel\n",
      "Remove 1 kernel specs [y/N]: \n"
     ]
    },
    {
     "name": "stderr",
     "output_type": "stream",
     "text": [
      "[RemoveKernelSpec] Removed C:\\Users\\toni\\AppData\\Roaming\\jupyter\\kernels\\pascalkernel\n"
     ]
    }
   ],
   "source": [
    "!echo y | jupyter  kernelspec uninstall pascalkernel"
   ]
  },
  {
   "cell_type": "code",
   "execution_count": 4,
   "metadata": {},
   "outputs": [
    {
     "name": "stdout",
     "output_type": "stream",
     "text": [
      "Kernel specs to remove:"
     ]
    },
    {
     "name": "stderr",
     "output_type": "stream",
     "text": [
      "[RemoveKernelSpec] Removed C:\\Users\\toni\\AppData\\Roaming\\jupyter\\kernels\\pascalkernel\n"
     ]
    },
    {
     "name": "stdout",
     "output_type": "stream",
     "text": [
      "\n",
      "  pascalkernel        \tC:\\Users\\toni\\AppData\\Roaming\\jupyter\\kernels\\pascalkernel\n",
      "Remove 1 kernel specs [y/N]: \n"
     ]
    }
   ],
   "source": [
    "!echo y | jupyter  kernelspec uninstall pascalkernel\n"
   ]
  },
  {
   "cell_type": "code",
   "execution_count": null,
   "metadata": {},
   "outputs": [],
   "source": [
    "import PluTonyKernel_Dll\n",
    "import PluTony as ply\n",
    "app=ply.rtti_app"
   ]
  },
  {
   "cell_type": "code",
   "execution_count": null,
   "metadata": {},
   "outputs": [],
   "source": [
    "app.ExecPascal('''\n",
    "program hola;\n",
    "begin\n",
    "  print (\"hello fromb delphi\")\n",
    "end.\n",
    "''')"
   ]
  },
  {
   "cell_type": "code",
   "execution_count": null,
   "metadata": {},
   "outputs": [],
   "source": [
    "print(PluTonyKernel_Dll)\n",
    "f=PluTonyKernel_Dll.__file__\n",
    "print(dir(f))\n",
    "f\n",
    "fi=ply.GetFile(f)\n",
    "fi\n",
    "root=ply.Directory('')"
   ]
  },
  {
   "cell_type": "markdown",
   "metadata": {},
   "source": [
    "Now, we can create a new kernel\n"
   ]
  },
  {
   "cell_type": "code",
   "execution_count": null,
   "metadata": {},
   "outputs": [],
   "source": [
    "print(dir(app.CreateKernels))\n",
    "resultkernel=app.CreateKernels('E:/python/miteruel/fastkernel','E:/python/miteruel/target/mypascalkernel','mypascalkernel')\n",
    "print(resultkernel)\n"
   ]
  },
  {
   "cell_type": "code",
   "execution_count": null,
   "metadata": {},
   "outputs": [],
   "source": [
    "python setup.py install --user\n",
    "jupyter kernelspec install plutony_kernel --user\n",
    "!python -m ipykernel install --user --name pas_kernel --display-name \"pas_kernel\"\n",
    "# python -m ipykernel install --user --name minipas --display-name \"minipas\"\n",
    "jupyter kernelspec install minipas --user"
   ]
  },
  {
   "cell_type": "code",
   "execution_count": null,
   "metadata": {
    "scrolled": true
   },
   "outputs": [],
   "source": [
    "# python setup.py sdist\n",
    "!py -m pip install -e E:\\python\\miteruel\\pas_kernel"
   ]
  },
  {
   "cell_type": "code",
   "execution_count": null,
   "metadata": {},
   "outputs": [],
   "source": [
    "!echo y | jupyter  kernelspec uninstall ecoeco_kernel"
   ]
  },
  {
   "cell_type": "markdown",
   "metadata": {},
   "source": [
    "Hola p4d.\n",
    "This is the very first doc to explain PluTony.\n",
    "\n",
    "\n",
    "\n",
    "\n"
   ]
  },
  {
   "cell_type": "markdown",
   "metadata": {},
   "source": [
    "The first steep is to import the PluTony library"
   ]
  },
  {
   "cell_type": "code",
   "execution_count": null,
   "metadata": {},
   "outputs": [],
   "source": [
    "import HelloPlutony_Dll\n",
    "import pandas as pd\n"
   ]
  },
  {
   "cell_type": "markdown",
   "metadata": {},
   "source": [
    "PluTony dll has several \"submodules\" wich may be imported too"
   ]
  },
  {
   "cell_type": "markdown",
   "metadata": {},
   "source": [
    "Now, you can access to XML objects"
   ]
  },
  {
   "cell_type": "markdown",
   "metadata": {},
   "source": [
    "You can load a file"
   ]
  },
  {
   "cell_type": "markdown",
   "metadata": {},
   "source": [
    "you can use bde databases too"
   ]
  },
  {
   "cell_type": "code",
   "execution_count": null,
   "metadata": {},
   "outputs": [],
   "source": [
    "!dir *.*"
   ]
  },
  {
   "cell_type": "code",
   "execution_count": null,
   "metadata": {},
   "outputs": [],
   "source": [
    "\n",
    "import PluTony as Ply\n",
    "\n",
    "D = Ply.Directory('e:\\d2009s')\n",
    "print (D)\n",
    "# print (D. root)\n",
    "\n",
    "for j in D:\n",
    "        print (j)\n",
    "OD=D//'elisa'\n",
    "print (OD)\n",
    "for j in OD:\n",
    "        print (j)\n",
    "        \n",
    "# D=None\n",
    "L = Ply.PyXStringList(1, 2,'hola', 3, 4)\n",
    "print (L)\n",
    "for i in L:\n",
    "  print (i, type(i))\n",
    "  \n"
   ]
  },
  {
   "cell_type": "code",
   "execution_count": null,
   "metadata": {},
   "outputs": [],
   "source": [
    "simple = Ply.rtti_rec.Mor.FilesInCSV('*.*')\n",
    "print (simple)\n"
   ]
  },
  {
   "cell_type": "code",
   "execution_count": null,
   "metadata": {},
   "outputs": [],
   "source": [
    "import io  \n",
    "test=simple\n",
    "df=pd.read_csv(io.StringIO(test));\n",
    "df\n",
    "# df.head()\n",
    "# df.describe()"
   ]
  },
  {
   "cell_type": "code",
   "execution_count": null,
   "metadata": {},
   "outputs": [],
   "source": []
  },
  {
   "cell_type": "code",
   "execution_count": null,
   "metadata": {
    "scrolled": false
   },
   "outputs": [],
   "source": [
    "!python -h modules"
   ]
  }
 ],
 "metadata": {
  "kernelspec": {
   "display_name": "Python 3 (ipykernel)",
   "language": "python",
   "name": "python3"
  },
  "language_info": {
   "codemirror_mode": {
    "name": "ipython",
    "version": 3
   },
   "file_extension": ".py",
   "mimetype": "text/x-python",
   "name": "python",
   "nbconvert_exporter": "python",
   "pygments_lexer": "ipython3",
   "version": "3.8.8"
  }
 },
 "nbformat": 4,
 "nbformat_minor": 4
}
