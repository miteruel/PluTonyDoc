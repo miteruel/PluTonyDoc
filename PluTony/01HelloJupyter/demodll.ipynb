{
 "cells": [
  {
   "cell_type": "markdown",
   "id": "martial-photograph",
   "metadata": {},
   "source": [
    "Example 1.\n",
    "Use the demodll from demo09 of p4d\n"
   ]
  },
  {
   "cell_type": "code",
   "execution_count": 1,
   "id": "southeast-eugene",
   "metadata": {},
   "outputs": [],
   "source": [
    "import demodll"
   ]
  },
  {
   "cell_type": "code",
   "execution_count": 3,
   "id": "drawn-terminal",
   "metadata": {},
   "outputs": [
    {
     "name": "stdout",
     "output_type": "stream",
     "text": [
      "24\n"
     ]
    }
   ],
   "source": [
    "a=demodll.add(12,12)\n",
    "print (a)"
   ]
  }
 ],
 "metadata": {
  "kernelspec": {
   "display_name": "Python 3 (ipykernel)",
   "language": "python",
   "name": "python3"
  },
  "language_info": {
   "codemirror_mode": {
    "name": "ipython",
    "version": 3
   },
   "file_extension": ".py",
   "mimetype": "text/x-python",
   "name": "python",
   "nbconvert_exporter": "python",
   "pygments_lexer": "ipython3",
   "version": "3.8.8"
  }
 },
 "nbformat": 4,
 "nbformat_minor": 5
}
