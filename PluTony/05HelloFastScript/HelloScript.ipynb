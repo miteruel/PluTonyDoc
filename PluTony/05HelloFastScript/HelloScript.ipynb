{
 "cells": [
  {
   "cell_type": "code",
   "execution_count": null,
   "metadata": {},
   "outputs": [],
   "source": []
  },
  {
   "cell_type": "markdown",
   "metadata": {},
   "source": [
    "Hola p4d.\n",
    "This is the very first doc to explain PluTony.\n",
    "\n",
    "\n",
    "\n",
    "\n"
   ]
  },
  {
   "cell_type": "markdown",
   "metadata": {},
   "source": [
    "The first steep is to import the PluTony library"
   ]
  },
  {
   "cell_type": "code",
   "execution_count": 1,
   "metadata": {},
   "outputs": [
    {
     "data": {
      "text/html": [
       "<div>\n",
       "<style scoped>\n",
       "    .dataframe tbody tr th:only-of-type {\n",
       "        vertical-align: middle;\n",
       "    }\n",
       "\n",
       "    .dataframe tbody tr th {\n",
       "        vertical-align: top;\n",
       "    }\n",
       "\n",
       "    .dataframe thead th {\n",
       "        text-align: right;\n",
       "    }\n",
       "</style>\n",
       "<table border=\"1\" class=\"dataframe\">\n",
       "  <thead>\n",
       "    <tr style=\"text-align: right;\">\n",
       "      <th></th>\n",
       "      <th></th>\n",
       "      <th></th>\n",
       "      <th></th>\n",
       "      <th></th>\n",
       "      <th></th>\n",
       "      <th></th>\n",
       "      <th></th>\n",
       "      <th></th>\n",
       "      <th>178</th>\n",
       "      <th>13</th>\n",
       "      <th>class_0</th>\n",
       "      <th>class_1</th>\n",
       "      <th>class_2</th>\n",
       "    </tr>\n",
       "  </thead>\n",
       "  <tbody>\n",
       "    <tr>\n",
       "      <th>13.71</th>\n",
       "      <th>5.65</th>\n",
       "      <th>2.45</th>\n",
       "      <th>20.5</th>\n",
       "      <th>95</th>\n",
       "      <th>1.68</th>\n",
       "      <th>0.61</th>\n",
       "      <th>0.52</th>\n",
       "      <th>1.06</th>\n",
       "      <td>7.7</td>\n",
       "      <td>0.64</td>\n",
       "      <td>1.74</td>\n",
       "      <td>740</td>\n",
       "      <td>2</td>\n",
       "    </tr>\n",
       "    <tr>\n",
       "      <th>13.40</th>\n",
       "      <th>3.91</th>\n",
       "      <th>2.48</th>\n",
       "      <th>23.0</th>\n",
       "      <th>102</th>\n",
       "      <th>1.80</th>\n",
       "      <th>0.75</th>\n",
       "      <th>0.43</th>\n",
       "      <th>1.41</th>\n",
       "      <td>7.3</td>\n",
       "      <td>0.70</td>\n",
       "      <td>1.56</td>\n",
       "      <td>750</td>\n",
       "      <td>2</td>\n",
       "    </tr>\n",
       "    <tr>\n",
       "      <th>13.27</th>\n",
       "      <th>4.28</th>\n",
       "      <th>2.26</th>\n",
       "      <th>20.0</th>\n",
       "      <th>120</th>\n",
       "      <th>1.59</th>\n",
       "      <th>0.69</th>\n",
       "      <th>0.43</th>\n",
       "      <th>1.35</th>\n",
       "      <td>10.2</td>\n",
       "      <td>0.59</td>\n",
       "      <td>1.56</td>\n",
       "      <td>835</td>\n",
       "      <td>2</td>\n",
       "    </tr>\n",
       "    <tr>\n",
       "      <th>13.17</th>\n",
       "      <th>2.59</th>\n",
       "      <th>2.37</th>\n",
       "      <th>20.0</th>\n",
       "      <th>120</th>\n",
       "      <th>1.65</th>\n",
       "      <th>0.68</th>\n",
       "      <th>0.53</th>\n",
       "      <th>1.46</th>\n",
       "      <td>9.3</td>\n",
       "      <td>0.60</td>\n",
       "      <td>1.62</td>\n",
       "      <td>840</td>\n",
       "      <td>2</td>\n",
       "    </tr>\n",
       "    <tr>\n",
       "      <th>14.13</th>\n",
       "      <th>4.10</th>\n",
       "      <th>2.74</th>\n",
       "      <th>24.5</th>\n",
       "      <th>96</th>\n",
       "      <th>2.05</th>\n",
       "      <th>0.76</th>\n",
       "      <th>0.56</th>\n",
       "      <th>1.35</th>\n",
       "      <td>9.2</td>\n",
       "      <td>0.61</td>\n",
       "      <td>1.60</td>\n",
       "      <td>560</td>\n",
       "      <td>2</td>\n",
       "    </tr>\n",
       "  </tbody>\n",
       "</table>\n",
       "</div>"
      ],
      "text/plain": [
       "                                               178    13  class_0  class_1  \\\n",
       "13.71 5.65 2.45 20.5 95  1.68 0.61 0.52 1.06   7.7  0.64     1.74      740   \n",
       "13.40 3.91 2.48 23.0 102 1.80 0.75 0.43 1.41   7.3  0.70     1.56      750   \n",
       "13.27 4.28 2.26 20.0 120 1.59 0.69 0.43 1.35  10.2  0.59     1.56      835   \n",
       "13.17 2.59 2.37 20.0 120 1.65 0.68 0.53 1.46   9.3  0.60     1.62      840   \n",
       "14.13 4.10 2.74 24.5 96  2.05 0.76 0.56 1.35   9.2  0.61     1.60      560   \n",
       "\n",
       "                                              class_2  \n",
       "13.71 5.65 2.45 20.5 95  1.68 0.61 0.52 1.06        2  \n",
       "13.40 3.91 2.48 23.0 102 1.80 0.75 0.43 1.41        2  \n",
       "13.27 4.28 2.26 20.0 120 1.59 0.69 0.43 1.35        2  \n",
       "13.17 2.59 2.37 20.0 120 1.65 0.68 0.53 1.46        2  \n",
       "14.13 4.10 2.74 24.5 96  2.05 0.76 0.56 1.35        2  "
      ]
     },
     "execution_count": 1,
     "metadata": {},
     "output_type": "execute_result"
    }
   ],
   "source": [
    "import HelloPlutonyFS_Dll\n",
    "import pandas as pd\n",
    "df=pd.read_csv('E:\\python\\Lib\\site-packages\\sklearn\\datasets\\data\\wine_data.csv');\n",
    "df\n",
    "df.head()\n",
    "df.describe()\n",
    "df.tail()\n"
   ]
  },
  {
   "cell_type": "markdown",
   "metadata": {},
   "source": [
    "PluTony dll has several \"submodules\" wich may be imported too"
   ]
  },
  {
   "cell_type": "code",
   "execution_count": 2,
   "metadata": {},
   "outputs": [
    {
     "name": "stdout",
     "output_type": "stream",
     "text": [
      "hola\n"
     ]
    }
   ],
   "source": [
    "# import DB\n",
    "# import DBTables\n",
    "import PluTony as Ply\n",
    "s=Ply.FaSC.ExecDWS(\"program hola1; begin print('hola') end.\")\n",
    "print (s)\n",
    "# s=x.Repr();\n",
    "# print (x.ToXmls)\n",
    "# dato =Ply.rtti_rec.SubRecord.dato('midato')\n",
    "# print(dato)\n",
    "# Ply.script.ExecDWS (\"print('hello from delphi')\")\n"
   ]
  },
  {
   "cell_type": "markdown",
   "metadata": {},
   "source": [
    "Now, you can access to XML objects"
   ]
  },
  {
   "cell_type": "code",
   "execution_count": 3,
   "metadata": {},
   "outputs": [
    {
     "name": "stdout",
     "output_type": "stream",
     "text": [
      "<a>\r\n",
      "<b at1=\"da1\" at2=\"2\"></b>\r\n",
      "<b at1=\"da2\" at2=\"5\"></b>\r\n",
      "</a>\r\n",
      "\n",
      "<b at1=\"da1\" at2=\"2\"></b>\r\n",
      "\n",
      "at1=da1\n",
      "at2=2\n",
      "<b at1=\"da2\" at2=\"5\"></b>\r\n",
      "\n",
      "at1=da2\n",
      "at2=5\n",
      "nose \n",
      "<Delphi TStrings at 6723510>\n",
      "at1,at2\n",
      "da1,2\n",
      "da2,5\n"
     ]
    },
    {
     "data": {
      "text/html": [
       "<div>\n",
       "<style scoped>\n",
       "    .dataframe tbody tr th:only-of-type {\n",
       "        vertical-align: middle;\n",
       "    }\n",
       "\n",
       "    .dataframe tbody tr th {\n",
       "        vertical-align: top;\n",
       "    }\n",
       "\n",
       "    .dataframe thead th {\n",
       "        text-align: right;\n",
       "    }\n",
       "</style>\n",
       "<table border=\"1\" class=\"dataframe\">\n",
       "  <thead>\n",
       "    <tr style=\"text-align: right;\">\n",
       "      <th></th>\n",
       "      <th>at1</th>\n",
       "      <th>at2</th>\n",
       "    </tr>\n",
       "  </thead>\n",
       "  <tbody>\n",
       "    <tr>\n",
       "      <th>0</th>\n",
       "      <td>da1</td>\n",
       "      <td>2</td>\n",
       "    </tr>\n",
       "    <tr>\n",
       "      <th>1</th>\n",
       "      <td>da2</td>\n",
       "      <td>5</td>\n",
       "    </tr>\n",
       "  </tbody>\n",
       "</table>\n",
       "</div>"
      ],
      "text/plain": [
       "   at1  at2\n",
       "0  da1    2\n",
       "1  da2    5"
      ]
     },
     "execution_count": 3,
     "metadata": {},
     "output_type": "execute_result"
    }
   ],
   "source": [
    "import io   \n",
    "\n",
    "d = Ply.PyDelphiXml('<a> <b at1=\"da1\" at2=\"2\"/> <b at1=\"da2\" at2=\"5\"/> </a>')\n",
    "cc = d.CSV(',')\n",
    "print(d.ToXML)\n",
    "for o in d:\n",
    "    print(o.ToXML)\n",
    "    a = o.Attribute\n",
    "    for s in a:\n",
    "      print (s)\n",
    "d = None\n",
    "print ('nose ')\n",
    "print (cc)\n",
    "for s in cc:\n",
    "  print (s)\n",
    "test=cc.Text\n",
    "df=pd.read_csv(io.StringIO(test));\n",
    "# df=pd.DataFrame(cc.Text);\n",
    "df"
   ]
  },
  {
   "cell_type": "markdown",
   "metadata": {},
   "source": [
    "You can load a file"
   ]
  },
  {
   "cell_type": "code",
   "execution_count": 5,
   "metadata": {},
   "outputs": [
    {
     "name": "stdout",
     "output_type": "stream",
     "text": [
      "<INTERFACE beginAbBSd=\"3\u0000\" beginAbBS=\"1\" end_nAbB=\"51\" end_nAb=\"1\">\r\n",
      "<USES beginAb=\"15=3\u0000\" beginAb=\"1=1\" end_nAb=\"=41\" end_nAb=\"1\">\r\n",
      "<UNIT lid_=\"3b\" col=\"3\" nal=\"=Clas413\"></UNIT>\r\n",
      "</USES>\r\n",
      "<TYPESECTION lil=\"=4l\" col=\"1\">\r\n",
      "<TYPEDECL begin4las4=\"4\u0000\" begin4las=\"3\" end_n4la=\"53\" end_n4l=\"6\" nad_=\"TAbBaseCH\u00004\u0000????\">\r\n",
      "<TYPE lid_=\"4A\" col=\"24\" tyl=\"=claBa\">\r\n",
      "<TYPE lil=\"=4l\" col=\"24\" nal=\"=TCompseCH\u0000\"></TYPE>\r\n",
      "<PROTECTED lil=\"=4C\" col=\"3\" visib4Comp=\"trH\u0000\">\r\n",
      "<METHOD begin4Comp=\"4r\" begin4Com=\"5\" end_n4Co=\"45\" end_n4C=\"5\" kid_=\"func454r\" nad_=\"GetVe54rH\u0000\">\r\n",
      "<RETURNTYPE lid_=\"4e\" col=\"24\">\r\n",
      "<TYPE lil=\"=4e\" col=\"24\" nal=\"=strVe5\"></TYPE>\r\n",
      "</RETURNTYPE>\r\n",
      "</METHOD>\r\n",
      "<METHOD beginstrVe=\"4r\" beginstrV=\"5\" end_nstr=\"45\" end_nst=\"3\" kid_=\"proce54rH\" nad_=\"SetVe54rH\u0000\">\r\n",
      "<PARAMETERS lid_=\"4e\" col=\"24\">\r\n",
      "<PARAMETER lil=\"=4e\" col=\"34\" kil=\"=conVe\">\r\n",
      "<NAME lil=\"=4o\" col=\"34\" val=\"3=Vale5\"></NAME>\r\n",
      "<TYPE lil=\"=4V\" col=\"44\" nal=\"=strle5\"></TYPE>\r\n",
      "</PARAMETER>\r\n",
      "</PARAMETERS>\r\n",
      "</METHOD>\r\n",
      "</PROTECTED>\r\n",
      "<PROTECTED lil=\"=4t\" col=\"3\" visib4trle=\"trH\u0000\">\r\n",
      "<PROPERTY lisi=\"4t\" col=\"5\" nal=\"=Verse=t\">\r\n",
      "<TYPE lil=\"=4e\" col=\"24\" nal=\"=strse=\"></TYPE>\r\n",
      "<READ lil=\"=4t\" col=\"7\">\r\n",
      "<IDENTIFIER lil=\"=4t\" col=\"14\" nal=\"=GetVe=trH\u0000\"></IDENTIFIER>\r\n",
      "</READ>\r\n",
      "<WRITE lil=\"=5e\" col=\"7\">\r\n",
      "<IDENTIFIER lil=\"=5e\" col=\"15\" nal=\"=SetVe=trH\u0000\"></IDENTIFIER>\r\n",
      "</WRITE>\r\n",
      "</PROPERTY>\r\n",
      "</PROTECTED>\r\n",
      "</TYPE>\r\n",
      "</TYPEDECL>\r\n",
      "</TYPESECTION>\r\n",
      "</INTERFACE>\r\n",
      "\n",
      "<IMPLEMENTATION beginSetVe=\"5r\" beginSetV=\"1\" end_nSet=\"71\" end_nSe=\"1\">\r\n",
      "<USES beginSe=\"17=5r\" beginSe=\"1=1\" end_nSe=\"=61\" end_nSe=\"1\">\r\n",
      "<UNIT lid_=\"5e\" col=\"3\" nal=\"=AbCo615\"></UNIT>\r\n",
      "</USES>\r\n",
      "<METHOD beginAbCo6=\"6r\" beginAbCo=\"1\" end_nAbC=\"61\" end_nAb=\"1\" kid_=\"func616r\" nad_=\"TAbBaseCompon???\u0000\u0000\u0000\u0000\u0000S\u0002\u0000\u0000\u0000\t\">\r\n",
      "<RETURNTYPE lid_=\"6A\" col=\"46\">\r\n",
      "<TYPE lil=\"=6A\" col=\"46\" nal=\"=strBas\"></TYPE>\r\n",
      "</RETURNTYPE>\r\n",
      "<STATEMENTS beginstrBa=\"6C\" beginstrB=\"1\" end_nstr=\"61\" end_nst=\"4\">\r\n",
      "<ASSIGN lid_=\"6t\" col=\"3\">\r\n",
      "<LHS lil=\"=6t\" col=\"3\">\r\n",
      "<IDENTIFIER lil=\"=6t\" col=\"3\" nal=\"=Res461\"></IDENTIFIER>\r\n",
      "</LHS>\r\n",
      "<RHS lil=\"=6e\" col=\"16\">\r\n",
      "<EXPRESSION lil=\"=6e\" col=\"16\">\r\n",
      "<IDENTIFIER lil=\"=6e\" col=\"16\" nal=\"=AbVer16Com\"></IDENTIFIER>\r\n",
      "</EXPRESSION>\r\n",
      "</RHS>\r\n",
      "</ASSIGN>\r\n",
      "</STATEMENTS>\r\n",
      "</METHOD>\r\n",
      "<METHOD beginAbVer=\"6C\" beginAbVe=\"1\" end_nAbV=\"71\" end_nAb=\"1\" nad_=\"TAbBaseCompon???\u0000\u0000\u0000\u0000\u0000S\u0002\u0000\u0000\u0000\t\" kid_=\"proceseCo\">\r\n",
      "<PARAMETERS lid_=\"6r\" col=\"36\">\r\n",
      "<PARAMETER lil=\"=6r\" col=\"46\" kil=\"=conce\">\r\n",
      "<NAME lil=\"=6o\" col=\"46\" val=\"4=Vales\"></NAME>\r\n",
      "<TYPE lil=\"=6V\" col=\"56\" nal=\"=strles\"></TYPE>\r\n",
      "</PARAMETER>\r\n",
      "</PARAMETERS>\r\n",
      "<STATEMENTS beginstrle=\"6C\" beginstrl=\"1\" end_nstr=\"61\" end_nst=\"4\"></STATEMENTS>\r\n",
      "</METHOD>\r\n",
      "</IMPLEMENTATION>\r\n",
      "\n"
     ]
    }
   ],
   "source": [
    "x=Ply.FileXml ('E:/xmltree/AbBase.pas.xml') # change litenal name \n",
    "for y in x: \n",
    "    print(y.ToXML)"
   ]
  },
  {
   "cell_type": "markdown",
   "metadata": {},
   "source": [
    "you can use bde databases too"
   ]
  },
  {
   "cell_type": "code",
   "execution_count": null,
   "metadata": {},
   "outputs": [],
   "source": []
  },
  {
   "cell_type": "code",
   "execution_count": 7,
   "metadata": {},
   "outputs": [
    {
     "name": "stdout",
     "output_type": "stream",
     "text": [
      "(e:\\d2009s)\n",
      "(e:\\d2009s\\elisa)\n",
      "<Delphi TStrings at CFD1B38>\n",
      "1 <class 'str'>\n",
      "2 <class 'str'>\n",
      "hola <class 'str'>\n",
      "3 <class 'str'>\n",
      "4 <class 'str'>\n",
      "hola\n"
     ]
    },
    {
     "ename": "ValueError",
     "evalue": "invalid literal for int() with base 10: 'hola'",
     "output_type": "error",
     "traceback": [
      "\u001b[1;31m---------------------------------------------------------------------------\u001b[0m",
      "\u001b[1;31mValueError\u001b[0m                                Traceback (most recent call last)",
      "\u001b[1;32m~\\AppData\\Local\\Temp/ipykernel_3640/1760987889.py\u001b[0m in \u001b[0;36m<module>\u001b[1;34m\u001b[0m\n\u001b[0;32m     17\u001b[0m \u001b[1;33m\u001b[0m\u001b[0m\n\u001b[0;32m     18\u001b[0m \u001b[0mprint\u001b[0m \u001b[1;33m(\u001b[0m\u001b[0mL\u001b[0m\u001b[1;33m[\u001b[0m\u001b[1;36m2\u001b[0m\u001b[1;33m]\u001b[0m\u001b[1;33m)\u001b[0m\u001b[1;33m\u001b[0m\u001b[1;33m\u001b[0m\u001b[0m\n\u001b[1;32m---> 19\u001b[1;33m \u001b[0mL\u001b[0m\u001b[1;33m[\u001b[0m\u001b[1;36m2\u001b[0m\u001b[1;33m]\u001b[0m \u001b[1;33m=\u001b[0m \u001b[0mint\u001b[0m\u001b[1;33m(\u001b[0m\u001b[0mL\u001b[0m\u001b[1;33m[\u001b[0m\u001b[1;36m2\u001b[0m\u001b[1;33m]\u001b[0m\u001b[1;33m)\u001b[0m \u001b[1;33m*\u001b[0m \u001b[1;36m2\u001b[0m\u001b[1;33m\u001b[0m\u001b[1;33m\u001b[0m\u001b[0m\n\u001b[0m\u001b[0;32m     20\u001b[0m \u001b[0mprint\u001b[0m \u001b[1;33m(\u001b[0m\u001b[0mL\u001b[0m\u001b[1;33m[\u001b[0m\u001b[1;36m2\u001b[0m\u001b[1;33m]\u001b[0m\u001b[1;33m,\u001b[0m \u001b[0mtype\u001b[0m\u001b[1;33m(\u001b[0m\u001b[0mL\u001b[0m\u001b[1;33m[\u001b[0m\u001b[1;36m2\u001b[0m\u001b[1;33m]\u001b[0m\u001b[1;33m)\u001b[0m\u001b[1;33m)\u001b[0m\u001b[1;33m\u001b[0m\u001b[1;33m\u001b[0m\u001b[0m\n\u001b[0;32m     21\u001b[0m \u001b[0mprint\u001b[0m \u001b[1;33m(\u001b[0m\u001b[0mL\u001b[0m\u001b[1;33m[\u001b[0m \u001b[0mL\u001b[0m\u001b[1;33m.\u001b[0m\u001b[0madd\u001b[0m\u001b[1;33m(\u001b[0m\u001b[1;36m10\u001b[0m\u001b[1;33m)\u001b[0m \u001b[1;33m]\u001b[0m\u001b[1;33m)\u001b[0m\u001b[1;33m\u001b[0m\u001b[1;33m\u001b[0m\u001b[0m\n",
      "\u001b[1;31mValueError\u001b[0m: invalid literal for int() with base 10: 'hola'"
     ]
    }
   ],
   "source": [
    "\n",
    "\n",
    "\n",
    "D = Ply.Directory('e:\\d2009s')\n",
    "print (D)\n",
    "# print (D. root)\n",
    "\n",
    "for j in D:\n",
    "        print (j)\n",
    "OD=D/'elisa'\n",
    "print (OD)\n",
    "for j in OD:\n",
    "        print (j)\n",
    "        \n",
    "# D=None\n",
    "L = Ply.PyXStringList(1, 2,'hola', 3, 4)\n",
    "print (L)\n",
    "for i in L:\n",
    "  print (i, type(i))\n",
    "  \n",
    "print (L[2])\n",
    "L[2] = int(L[2]) * 2\n",
    "print (L[2], type(L[2]))\n",
    "print (L[ L.add(10) ])\n",
    "# L=None\n"
   ]
  },
  {
   "cell_type": "code",
   "execution_count": null,
   "metadata": {},
   "outputs": [],
   "source": []
  },
  {
   "cell_type": "code",
   "execution_count": 11,
   "metadata": {},
   "outputs": [
    {
     "name": "stdout",
     "output_type": "stream",
     "text": [
      "\n",
      " program pro2;\n",
      " var s : String;  \n",
      " begin\n",
      "  s := 'Hello from delphi script!'; \n",
      "  Print(s);\n",
      " end.\n",
      " \n",
      "Hello from delphi script!\n"
     ]
    }
   ],
   "source": [
    "prog=\"\"\"\n",
    " program pro2;\n",
    " var s : String;  \n",
    " begin\n",
    "  s := 'Hello from delphi script!'; \n",
    "  Print(s);\n",
    " end.\n",
    " \"\"\"\n",
    "result=Ply.FaSC.ExecDWS(prog)\n",
    "\n",
    "print(prog)\n",
    "print(result)\n"
   ]
  },
  {
   "cell_type": "code",
   "execution_count": null,
   "metadata": {},
   "outputs": [],
   "source": []
  }
 ],
 "metadata": {
  "kernelspec": {
   "display_name": "Python 3 (ipykernel)",
   "language": "python",
   "name": "python3"
  },
  "language_info": {
   "codemirror_mode": {
    "name": "ipython",
    "version": 3
   },
   "file_extension": ".py",
   "mimetype": "text/x-python",
   "name": "python",
   "nbconvert_exporter": "python",
   "pygments_lexer": "ipython3",
   "version": "3.8.8"
  }
 },
 "nbformat": 4,
 "nbformat_minor": 4
}
