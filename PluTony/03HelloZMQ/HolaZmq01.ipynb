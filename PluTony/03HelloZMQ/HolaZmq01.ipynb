{
 "cells": [
  {
   "cell_type": "code",
   "execution_count": 2,
   "metadata": {},
   "outputs": [
    {
     "data": {
      "text/plain": [
       "200000000000000000000000888888888888888800000000000000001"
      ]
     },
     "execution_count": 2,
     "metadata": {},
     "output_type": "execute_result"
    }
   ],
   "source": [
    "n= 200000000000000000000000888888888888888800000000000000000\n",
    "n+1"
   ]
  },
  {
   "cell_type": "markdown",
   "metadata": {},
   "source": [
    "# "
   ]
  },
  {
   "cell_type": "markdown",
   "metadata": {},
   "source": [
    "Hola p4d.\n",
    "This is the very first doc to xplain PluTony.\n",
    "\n",
    "\n"
   ]
  },
  {
   "cell_type": "code",
   "execution_count": 2,
   "metadata": {},
   "outputs": [
    {
     "name": "stdout",
     "output_type": "stream",
     "text": [
      "hola1\n",
      "hola2\n",
      "hola3\n",
      "Received reply [ [b'\\x05', b'MyService', b'No command', b'\\x00\\x00\\x00\\x00'] ]\n"
     ]
    }
   ],
   "source": [
    "\n",
    "import zmq\n",
    "import array\n",
    "#  from zmq.log.handlers import PUBHandler\n",
    "print(\"hola1\")\n",
    "\n",
    "\n",
    "#  from zmq.log.handlers import PUBHandler\n",
    "print(\"hola2\")\n",
    "\n",
    "\n",
    "def run_app(server,service,sourceCode):\n",
    "    ctx = zmq.Context()\n",
    "    pub = ctx.socket(zmq.REQ)    \n",
    "    pub.connect(server)\n",
    "    num=5\n",
    "    frame = b\"\"\n",
    "    frame += b'\\x05'\n",
    "\n",
    "   \n",
    "    b2 = array.array(\"B\",  [ord(c) for c in service]) \n",
    "    b3 = array.array(\"B\",  [ord(c) for c in sourceCode]) \n",
    "    \n",
    "    # b3 = bytes(sourceCode)\n",
    "    frame2 = b\"\"\n",
    "    frame2 += b'\\x00'\n",
    "    frame2 += b'\\x00'\n",
    "    frame2 += b'\\x00'\n",
    "    frame2 += b'\\x00'\n",
    "    \n",
    "    pub.send_multipart([frame,b2,  b3,frame2])\n",
    "    # pub.send_multipart([s,service,  sourceCode])\n",
    "    \n",
    "\n",
    "    #  Get the reply.\n",
    "    message = pub.recv_multipart()\n",
    "    print(\"Received reply [ %s ]\" % ( message))\n",
    "\n",
    "\n",
    "def log_app2(msg):\n",
    "    run_app(\"tcp://192.168.1.158:5431\",\"MyService\",msg)\n",
    "'''  \n",
    "\n",
    "def log_app(msg):\n",
    "    ctx = zmq.Context()\n",
    "    pub = ctx.socket(zmq.REQ)\n",
    "    \n",
    "    pub.connect(\"tcp://192.168.1.158:5555\")\n",
    "\n",
    "    pub.send_string(msg)\n",
    "\n",
    "    #  Get the reply.\n",
    "    message = pub.recv()\n",
    "    print(\"Received reply [ %s ]\" % ( message))\n",
    "    \n",
    "  \n",
    "\n",
    "\n",
    "def log_worker(port, interval_=1):\n",
    "    ctx = zmq.Context()\n",
    "    pub = ctx.socket(zmq.REQ)\n",
    "    \n",
    "    pub.connect(\"tcp://localhost:5555\")\n",
    "\n",
    "    pub.send(b\"Hello python\")\n",
    "\n",
    "    #  Get the reply.\n",
    "    message = pub.recv()\n",
    "    print(\"Received reply [ %s ]\" % ( message))\n",
    "'''    \n",
    "  \n",
    "\n",
    "print(\"hola3\")\n",
    "\n",
    "\n",
    "log_app2 (\"hola delphi desde python\")\n",
    "\n",
    "# log_worker (5555,2)\n"
   ]
  },
  {
   "cell_type": "code",
   "execution_count": null,
   "metadata": {},
   "outputs": [],
   "source": [
    "print('hola2')"
   ]
  },
  {
   "cell_type": "markdown",
   "metadata": {},
   "source": [
    "The first steep is to import the PluTony library"
   ]
  },
  {
   "cell_type": "code",
   "execution_count": null,
   "metadata": {},
   "outputs": [],
   "source": [
    "import HelloPlutonyZQM_Dll\n",
    "import Plutony as XML\n",
    "import Plutony as Ply\n",
    "\n"
   ]
  },
  {
   "cell_type": "markdown",
   "metadata": {},
   "source": [
    "PluTony dll has several \"submodules\" wich may be imported too"
   ]
  },
  {
   "cell_type": "code",
   "execution_count": null,
   "metadata": {},
   "outputs": [],
   "source": [
    "# import DB\n",
    "# import DBTables\n",
    "import XML\n"
   ]
  },
  {
   "cell_type": "markdown",
   "metadata": {},
   "source": [
    "Now, you can access to XML objects"
   ]
  },
  {
   "cell_type": "code",
   "execution_count": null,
   "metadata": {},
   "outputs": [],
   "source": [
    "         \n",
    "\n",
    "d = XML.PyDelphiXml('<a> <b at1=\"da1\" /> <b at1=\"da2\" /> </a>')\n",
    "print(d.ToXML)\n",
    "for o in d:\n",
    "    print(o.ToXML)\n",
    "    a = o.Attribute\n",
    "    for s in a:\n",
    "      print (s)\n",
    "d = None\n"
   ]
  },
  {
   "cell_type": "markdown",
   "metadata": {},
   "source": [
    "You can load a file"
   ]
  },
  {
   "cell_type": "code",
   "execution_count": null,
   "metadata": {},
   "outputs": [],
   "source": [
    "x=XML.FileXml ('E:/xmltree/AbBase.pas.xml') # change litenal name \n",
    "for y in x: \n",
    "    print(y.ToXML)"
   ]
  },
  {
   "cell_type": "markdown",
   "metadata": {},
   "source": [
    "you can use bde databases too"
   ]
  },
  {
   "cell_type": "code",
   "execution_count": 6,
   "metadata": {},
   "outputs": [
    {
     "ename": "NameError",
     "evalue": "name 'DBTables' is not defined",
     "output_type": "error",
     "traceback": [
      "\u001b[1;31m---------------------------------------------------------------------------\u001b[0m",
      "\u001b[1;31mNameError\u001b[0m                                 Traceback (most recent call last)",
      "\u001b[1;32m<ipython-input-6-a37530e64a0b>\u001b[0m in \u001b[0;36m<module>\u001b[1;34m\u001b[0m\n\u001b[0;32m      6\u001b[0m \u001b[1;33m\u001b[0m\u001b[0m\n\u001b[0;32m      7\u001b[0m \u001b[1;33m\u001b[0m\u001b[0m\n\u001b[1;32m----> 8\u001b[1;33m \u001b[0mT\u001b[0m \u001b[1;33m=\u001b[0m \u001b[0mDBTables\u001b[0m\u001b[1;33m.\u001b[0m\u001b[0mCreateTQuery\u001b[0m\u001b[1;33m(\u001b[0m\u001b[1;34m'DBDemos'\u001b[0m\u001b[1;33m,\u001b[0m\u001b[1;34m'select * from customer'\u001b[0m\u001b[1;33m)\u001b[0m\u001b[1;33m\u001b[0m\u001b[1;33m\u001b[0m\u001b[0m\n\u001b[0m\u001b[0;32m      9\u001b[0m \u001b[0mT\u001b[0m\u001b[1;33m.\u001b[0m\u001b[0mOpen\u001b[0m\u001b[1;33m(\u001b[0m\u001b[1;33m)\u001b[0m\u001b[1;33m\u001b[0m\u001b[1;33m\u001b[0m\u001b[0m\n\u001b[0;32m     10\u001b[0m \u001b[0mprint\u001b[0m \u001b[1;33m(\u001b[0m\u001b[1;34m' opened'\u001b[0m\u001b[1;33m,\u001b[0m\u001b[0mT\u001b[0m\u001b[1;33m)\u001b[0m\u001b[1;33m\u001b[0m\u001b[1;33m\u001b[0m\u001b[0m\n",
      "\u001b[1;31mNameError\u001b[0m: name 'DBTables' is not defined"
     ]
    }
   ],
   "source": [
    "# import PluTony_dll\n",
    "# import p4d\n",
    "# import sys\n",
    "# sys.path.append('C:/Users/toni/Documents/Python Scripts')\n",
    "          \n",
    "\n",
    "\n",
    "T = DBTables.CreateTQuery('DBDemos','select * from customer')\n",
    "T.Open()\n",
    "print (' opened',T)\n",
    "T.First()\n",
    "while not T.EOF:\n",
    "  # Get all the fields in a list\n",
    "  A = []\n",
    "  for i in range( T.FieldCount ):\n",
    "    A.append( T.Fields(i).AsString )\n",
    "  # Print the current record number and the list\n",
    "  print  (T.RecNo,   A)\n",
    "  # Get next record\n",
    "  T.Next()\n",
    "\n"
   ]
  },
  {
   "cell_type": "code",
   "execution_count": null,
   "metadata": {},
   "outputs": [],
   "source": []
  },
  {
   "cell_type": "code",
   "execution_count": null,
   "metadata": {},
   "outputs": [],
   "source": []
  },
  {
   "cell_type": "code",
   "execution_count": null,
   "metadata": {},
   "outputs": [],
   "source": []
  }
 ],
 "metadata": {
  "kernelspec": {
   "display_name": "Python 3 (ipykernel)",
   "language": "python",
   "name": "python3"
  },
  "language_info": {
   "codemirror_mode": {
    "name": "ipython",
    "version": 3
   },
   "file_extension": ".py",
   "mimetype": "text/x-python",
   "name": "python",
   "nbconvert_exporter": "python",
   "pygments_lexer": "ipython3",
   "version": "3.8.8"
  }
 },
 "nbformat": 4,
 "nbformat_minor": 4
}
